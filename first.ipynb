{
  "nbformat": 4,
  "nbformat_minor": 0,
  "metadata": {
    "colab": {
      "provenance": [],
      "authorship_tag": "ABX9TyO34XZ9eHP6Jw5N/d2DLk+N",
      "include_colab_link": true
    },
    "kernelspec": {
      "name": "python3",
      "display_name": "Python 3"
    },
    "language_info": {
      "name": "python"
    }
  },
  "cells": [
    {
      "cell_type": "markdown",
      "metadata": {
        "id": "view-in-github",
        "colab_type": "text"
      },
      "source": [
        "<a href=\"https://colab.research.google.com/github/sharad609/google-colab-workspace/blob/main/first.ipynb\" target=\"_parent\"><img src=\"https://colab.research.google.com/assets/colab-badge.svg\" alt=\"Open In Colab\"/></a>"
      ]
    },
    {
      "cell_type": "code",
      "execution_count": null,
      "metadata": {
        "id": "bkVCT7Pppkrh"
      },
      "outputs": [],
      "source": [
        "import sqlite3"
      ]
    },
    {
      "cell_type": "code",
      "source": [
        "#database creation\n",
        "conn = sqlite3.connect('training.db')"
      ],
      "metadata": {
        "id": "zmYYaMwlqRq6"
      },
      "execution_count": null,
      "outputs": []
    },
    {
      "cell_type": "code",
      "source": [
        "#create a cursor\n",
        "c = conn.cursor()"
      ],
      "metadata": {
        "id": "Mr3tulKTq4ne"
      },
      "execution_count": null,
      "outputs": []
    },
    {
      "cell_type": "code",
      "source": [
        "#create a table\n",
        "c.execute('''CREATE TABLE student (first_name TEXT, last_name TEXT, roll_no INTEGER, branch TEXT) ''')\n",
        "#it has 5 data types:NULL,INTEGER,REAL(decimal),TEXT,BLOB(store as exactly as it is)."
      ],
      "metadata": {
        "colab": {
          "base_uri": "https://localhost:8080/"
        },
        "id": "b0ogmW6drMNV",
        "outputId": "1842ea30-a857-4932-aeb1-26864e49e7ee"
      },
      "execution_count": null,
      "outputs": [
        {
          "output_type": "execute_result",
          "data": {
            "text/plain": [
              "<sqlite3.Cursor at 0x78ee34ce8440>"
            ]
          },
          "metadata": {},
          "execution_count": 4
        }
      ]
    },
    {
      "cell_type": "code",
      "source": [
        "c.execute(\"INSERT INTO student VALUES('Sharad', 'Mishra', 206, 'CSE')\")"
      ],
      "metadata": {
        "colab": {
          "base_uri": "https://localhost:8080/"
        },
        "id": "Sk1Jwm69skXq",
        "outputId": "42ada5a3-8c95-4a5e-c316-9d86734a7184"
      },
      "execution_count": null,
      "outputs": [
        {
          "output_type": "execute_result",
          "data": {
            "text/plain": [
              "<sqlite3.Cursor at 0x78ee34ce8440>"
            ]
          },
          "metadata": {},
          "execution_count": 5
        }
      ]
    },
    {
      "cell_type": "code",
      "source": [
        "#to insert multiple values create an array object\n",
        "all_stu = [('Pinkesh', 'Pritam', 162, 'DS'), ('Mohit', 'Jha', 149, 'AI')]"
      ],
      "metadata": {
        "id": "vF4D4IyxtJT2"
      },
      "execution_count": null,
      "outputs": []
    },
    {
      "cell_type": "code",
      "source": [
        "c.executemany(\"INSERT INTO student VALUES (?,?,?,?)\",all_stu)"
      ],
      "metadata": {
        "colab": {
          "base_uri": "https://localhost:8080/"
        },
        "id": "rrJ1rcatuOzP",
        "outputId": "d6010324-108a-470e-d6b1-86df568725dd"
      },
      "execution_count": null,
      "outputs": [
        {
          "output_type": "execute_result",
          "data": {
            "text/plain": [
              "<sqlite3.Cursor at 0x78ee34ce8440>"
            ]
          },
          "metadata": {},
          "execution_count": 7
        }
      ]
    },
    {
      "cell_type": "code",
      "source": [
        "c.execute(\"SELECT * FROM student\")\n",
        "for i in c.execute(\"SELECT * FROM student\"):\n",
        "  print(i)"
      ],
      "metadata": {
        "colab": {
          "base_uri": "https://localhost:8080/"
        },
        "id": "bMmpyUsru7kp",
        "outputId": "a3bb138c-13f6-438a-8b23-984590a6e02a"
      },
      "execution_count": null,
      "outputs": [
        {
          "output_type": "stream",
          "name": "stdout",
          "text": [
            "('Sharad', 'Mishra', 206, 'CSE')\n",
            "('Pinkesh', 'Pritam', 162, 'DS')\n",
            "('Mohit', 'Jha', 149, 'AI')\n"
          ]
        }
      ]
    },
    {
      "cell_type": "code",
      "source": [
        "c.execute(\"SELECT * FROM student\")"
      ],
      "metadata": {
        "colab": {
          "base_uri": "https://localhost:8080/"
        },
        "id": "B3AozROEv77K",
        "outputId": "8cd7e872-a015-4916-a5ee-a5824323839b"
      },
      "execution_count": null,
      "outputs": [
        {
          "output_type": "execute_result",
          "data": {
            "text/plain": [
              "<sqlite3.Cursor at 0x78ee34ce8440>"
            ]
          },
          "metadata": {},
          "execution_count": 9
        }
      ]
    },
    {
      "cell_type": "code",
      "source": [
        "print(c.fetchone())"
      ],
      "metadata": {
        "colab": {
          "base_uri": "https://localhost:8080/"
        },
        "id": "UlwtfsQtxGR-",
        "outputId": "dd5cf37b-5bfc-4569-e813-fbc8b11e5319"
      },
      "execution_count": null,
      "outputs": [
        {
          "output_type": "stream",
          "name": "stdout",
          "text": [
            "('Sharad', 'Mishra', 206, 'CSE')\n"
          ]
        }
      ]
    },
    {
      "cell_type": "code",
      "source": [
        "print(c.fetchmany())"
      ],
      "metadata": {
        "colab": {
          "base_uri": "https://localhost:8080/"
        },
        "id": "hO4ETTV6xPmm",
        "outputId": "4a18b2ed-ac83-42ed-8e89-ea73680e6492"
      },
      "execution_count": null,
      "outputs": [
        {
          "output_type": "stream",
          "name": "stdout",
          "text": [
            "[('Pinkesh', 'Pritam', 162, 'DS')]\n"
          ]
        }
      ]
    },
    {
      "cell_type": "code",
      "source": [
        "print(c.fetchall())"
      ],
      "metadata": {
        "colab": {
          "base_uri": "https://localhost:8080/"
        },
        "id": "i554laWZxYKv",
        "outputId": "50231e2d-0c98-4592-a280-617595c5244c"
      },
      "execution_count": null,
      "outputs": [
        {
          "output_type": "stream",
          "name": "stdout",
          "text": [
            "[('Mohit', 'Jha', 149, 'AI')]\n"
          ]
        }
      ]
    },
    {
      "cell_type": "code",
      "source": [
        "print(c.fetchmany())"
      ],
      "metadata": {
        "colab": {
          "base_uri": "https://localhost:8080/"
        },
        "id": "5TtAY8mJxqZW",
        "outputId": "da5ae5ff-74a8-488c-ef77-e459399972c4"
      },
      "execution_count": null,
      "outputs": [
        {
          "output_type": "stream",
          "name": "stdout",
          "text": [
            "[]\n"
          ]
        }
      ]
    },
    {
      "cell_type": "code",
      "source": [
        "#commit our command\n",
        "conn.commit()"
      ],
      "metadata": {
        "id": "6xggqz5wzE1i"
      },
      "execution_count": null,
      "outputs": []
    },
    {
      "cell_type": "code",
      "source": [
        "#close the connection when there is no need to use database\n",
        "conn.close()"
      ],
      "metadata": {
        "id": "z7W0q5Eczkfd"
      },
      "execution_count": null,
      "outputs": []
    }
  ]
}